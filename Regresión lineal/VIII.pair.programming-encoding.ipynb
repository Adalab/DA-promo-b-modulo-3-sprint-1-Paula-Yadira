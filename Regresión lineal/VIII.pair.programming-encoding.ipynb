{
 "cells": [
  {
   "cell_type": "code",
   "execution_count": 27,
   "metadata": {},
   "outputs": [],
   "source": [
    "import pandas as pd\n",
    "from sklearn.preprocessing import LabelEncoder # para realizar el Label Encoding \n",
    "from sklearn.preprocessing import OneHotEncoder  # para realizar el One-Hot Encoding\n",
    "from sklearn.preprocessing import OrdinalEncoder\n",
    "\n",
    "import warnings\n",
    "warnings.filterwarnings('ignore')\n",
    "pd.options.display.max_columns = None"
   ]
  },
  {
   "cell_type": "markdown",
   "metadata": {},
   "source": [
    "En el pair programming de hoy usaremos el set de datos que guardastéis en el pair programming de normalización y estandarización."
   ]
  },
  {
   "cell_type": "code",
   "execution_count": 28,
   "metadata": {},
   "outputs": [
    {
     "data": {
      "text/html": [
       "<div>\n",
       "<style scoped>\n",
       "    .dataframe tbody tr th:only-of-type {\n",
       "        vertical-align: middle;\n",
       "    }\n",
       "\n",
       "    .dataframe tbody tr th {\n",
       "        vertical-align: top;\n",
       "    }\n",
       "\n",
       "    .dataframe thead th {\n",
       "        text-align: right;\n",
       "    }\n",
       "</style>\n",
       "<table border=\"1\" class=\"dataframe\">\n",
       "  <thead>\n",
       "    <tr style=\"text-align: right;\">\n",
       "      <th></th>\n",
       "      <th>salary_box</th>\n",
       "      <th>experience_level</th>\n",
       "      <th>employee_residence</th>\n",
       "    </tr>\n",
       "  </thead>\n",
       "  <tbody>\n",
       "    <tr>\n",
       "      <th>0</th>\n",
       "      <td>4631.904560</td>\n",
       "      <td>Entry-Level</td>\n",
       "      <td>US</td>\n",
       "    </tr>\n",
       "    <tr>\n",
       "      <th>1</th>\n",
       "      <td>7311.922975</td>\n",
       "      <td>Mid-Level</td>\n",
       "      <td>US</td>\n",
       "    </tr>\n",
       "  </tbody>\n",
       "</table>\n",
       "</div>"
      ],
      "text/plain": [
       "    salary_box experience_level employee_residence\n",
       "0  4631.904560      Entry-Level                 US\n",
       "1  7311.922975        Mid-Level                 US"
      ]
     },
     "execution_count": 28,
     "metadata": {},
     "output_type": "execute_result"
    }
   ],
   "source": [
    "df=pd.read_csv('../datos/salaries_modelo.csv', index_col=0)\n",
    "df.head(2) #Hacemos una vista previa de nuestro DataFrame"
   ]
  },
  {
   "cell_type": "markdown",
   "metadata": {},
   "source": [
    "Vuestro set de datos debería tener al menos una variable categórica, el objetivo del pair programming de hoy:\n",
    "\n",
    "- Hacer una códificación de la/las variables categóricas que tengáis en vuestro set de datos."
   ]
  },
  {
   "cell_type": "markdown",
   "metadata": {},
   "source": [
    "Empezamos con la clasificación de nuestras variable categóricas según sean nominales, ordinarias o binarias:\n",
    "\n",
    "    -  Ordinarias: experience_level\n",
    "    -  Nominales: company_location"
   ]
  },
  {
   "cell_type": "markdown",
   "metadata": {},
   "source": [
    "Hacemos el encoding para variable categóricas ordinarias:"
   ]
  },
  {
   "cell_type": "code",
   "execution_count": 29,
   "metadata": {},
   "outputs": [],
   "source": [
    "# Hacemos una funcion de mapeo\n",
    "\n",
    "def encoder_map(df, columna, orden_valores):\n",
    "    \n",
    "    # nos creamos un diccionario vacío para hacer el map después. \n",
    "    ordinal_dict = {}\n",
    "    \n",
    "    # iteramos por nuestra lista de valores usando el enumerate que recordamos nos devolvía también el índice o posición de cada elemento\n",
    "    for i, valor in enumerate(orden_valores):\n",
    "        ordinal_dict[valor]=i+1 # le sumamos uno a la posición para no tener valores de 0.\n",
    "        columna_nueva =columna + \"map_funcion\"\n",
    "\n",
    "    # aplicamos el map\n",
    "    df[columna_nueva] = df[columna].map(ordinal_dict)\n",
    "    return df\n",
    "    "
   ]
  },
  {
   "cell_type": "code",
   "execution_count": 30,
   "metadata": {},
   "outputs": [
    {
     "data": {
      "text/plain": [
       "array(['Entry-Level', 'Mid-Level', 'Senior', 'Executive Level'],\n",
       "      dtype=object)"
      ]
     },
     "execution_count": 30,
     "metadata": {},
     "output_type": "execute_result"
    }
   ],
   "source": [
    "## Experience_level:\n",
    "df['experience_level'].unique()"
   ]
  },
  {
   "cell_type": "code",
   "execution_count": 31,
   "metadata": {},
   "outputs": [
    {
     "data": {
      "text/html": [
       "<div>\n",
       "<style scoped>\n",
       "    .dataframe tbody tr th:only-of-type {\n",
       "        vertical-align: middle;\n",
       "    }\n",
       "\n",
       "    .dataframe tbody tr th {\n",
       "        vertical-align: top;\n",
       "    }\n",
       "\n",
       "    .dataframe thead th {\n",
       "        text-align: right;\n",
       "    }\n",
       "</style>\n",
       "<table border=\"1\" class=\"dataframe\">\n",
       "  <thead>\n",
       "    <tr style=\"text-align: right;\">\n",
       "      <th></th>\n",
       "      <th>salary_box</th>\n",
       "      <th>experience_level</th>\n",
       "      <th>employee_residence</th>\n",
       "      <th>experience_levelmap_funcion</th>\n",
       "    </tr>\n",
       "  </thead>\n",
       "  <tbody>\n",
       "    <tr>\n",
       "      <th>0</th>\n",
       "      <td>4631.904560</td>\n",
       "      <td>Entry-Level</td>\n",
       "      <td>US</td>\n",
       "      <td>1</td>\n",
       "    </tr>\n",
       "    <tr>\n",
       "      <th>1</th>\n",
       "      <td>7311.922975</td>\n",
       "      <td>Mid-Level</td>\n",
       "      <td>US</td>\n",
       "      <td>2</td>\n",
       "    </tr>\n",
       "  </tbody>\n",
       "</table>\n",
       "</div>"
      ],
      "text/plain": [
       "    salary_box experience_level employee_residence  \\\n",
       "0  4631.904560      Entry-Level                 US   \n",
       "1  7311.922975        Mid-Level                 US   \n",
       "\n",
       "   experience_levelmap_funcion  \n",
       "0                            1  \n",
       "1                            2  "
      ]
     },
     "execution_count": 31,
     "metadata": {},
     "output_type": "execute_result"
    }
   ],
   "source": [
    "df = encoder_map(df, 'experience_level', ['Entry-Level', 'Mid-Level', 'Senior', 'Executive Level'])\n",
    "df.head(2)"
   ]
  },
  {
   "cell_type": "markdown",
   "metadata": {},
   "source": [
    "#### Hacemos el endcoding para las variables categóricas nominales"
   ]
  },
  {
   "cell_type": "markdown",
   "metadata": {},
   "source": [
    "Pruebo los dos métodos para decidir con cual nos quedamos"
   ]
  },
  {
   "cell_type": "code",
   "execution_count": 32,
   "metadata": {},
   "outputs": [],
   "source": [
    "df_one=df.copy()\n",
    "df_dummies=df.copy()"
   ]
  },
  {
   "cell_type": "markdown",
   "metadata": {},
   "source": [
    "#### One-Hot Encoding"
   ]
  },
  {
   "cell_type": "code",
   "execution_count": 33,
   "metadata": {},
   "outputs": [],
   "source": [
    "# Creamos una función que nos haga el método onehotencoder\n",
    "def one_hot_encoder_one(df,columna,keep_first=True):\n",
    "    \n",
    "    # iniciamos el método de OneHot Encoder\n",
    "    oh = OneHotEncoder()\n",
    "    \n",
    "    # hacemos la codificación de los datos para la variable dada \n",
    "    transformados = oh.fit_transform(df[[columna]])\n",
    "    \n",
    "    # convertimos nuestro array con la codificación hecha en un dataframe\n",
    "    oh_df = pd.DataFrame(transformados.toarray())\n",
    "    \n",
    "    # el método get_feature_names nos va a dar el nombre de las columnas nuevas que se nos generarán\n",
    "    oh_df.columns = oh.get_feature_names()\n",
    "    \n",
    "    # concatenamos el dataframe original con el dataframe que acabamos de crear\n",
    "    final = pd.concat([df,oh_df],axis=1)\n",
    "    \n",
    "    # eliminamos la columna original \n",
    "    final.drop(columna, axis = 1,  inplace = True)\n",
    "    return final"
   ]
  },
  {
   "cell_type": "code",
   "execution_count": 34,
   "metadata": {},
   "outputs": [
    {
     "data": {
      "text/html": [
       "<div>\n",
       "<style scoped>\n",
       "    .dataframe tbody tr th:only-of-type {\n",
       "        vertical-align: middle;\n",
       "    }\n",
       "\n",
       "    .dataframe tbody tr th {\n",
       "        vertical-align: top;\n",
       "    }\n",
       "\n",
       "    .dataframe thead th {\n",
       "        text-align: right;\n",
       "    }\n",
       "</style>\n",
       "<table border=\"1\" class=\"dataframe\">\n",
       "  <thead>\n",
       "    <tr style=\"text-align: right;\">\n",
       "      <th></th>\n",
       "      <th>salary_box</th>\n",
       "      <th>experience_level</th>\n",
       "      <th>experience_levelmap_funcion</th>\n",
       "      <th>x0_CA</th>\n",
       "      <th>x0_ES</th>\n",
       "      <th>x0_FR</th>\n",
       "      <th>x0_GB</th>\n",
       "      <th>x0_IN</th>\n",
       "      <th>x0_US</th>\n",
       "    </tr>\n",
       "  </thead>\n",
       "  <tbody>\n",
       "    <tr>\n",
       "      <th>0</th>\n",
       "      <td>4631.904560</td>\n",
       "      <td>Entry-Level</td>\n",
       "      <td>1</td>\n",
       "      <td>0.0</td>\n",
       "      <td>0.0</td>\n",
       "      <td>0.0</td>\n",
       "      <td>0.0</td>\n",
       "      <td>0.0</td>\n",
       "      <td>1.0</td>\n",
       "    </tr>\n",
       "    <tr>\n",
       "      <th>1</th>\n",
       "      <td>7311.922975</td>\n",
       "      <td>Mid-Level</td>\n",
       "      <td>2</td>\n",
       "      <td>0.0</td>\n",
       "      <td>0.0</td>\n",
       "      <td>0.0</td>\n",
       "      <td>0.0</td>\n",
       "      <td>0.0</td>\n",
       "      <td>1.0</td>\n",
       "    </tr>\n",
       "    <tr>\n",
       "      <th>2</th>\n",
       "      <td>3622.101327</td>\n",
       "      <td>Entry-Level</td>\n",
       "      <td>1</td>\n",
       "      <td>0.0</td>\n",
       "      <td>0.0</td>\n",
       "      <td>1.0</td>\n",
       "      <td>0.0</td>\n",
       "      <td>0.0</td>\n",
       "      <td>0.0</td>\n",
       "    </tr>\n",
       "    <tr>\n",
       "      <th>3</th>\n",
       "      <td>3048.666850</td>\n",
       "      <td>Mid-Level</td>\n",
       "      <td>2</td>\n",
       "      <td>0.0</td>\n",
       "      <td>0.0</td>\n",
       "      <td>0.0</td>\n",
       "      <td>0.0</td>\n",
       "      <td>1.0</td>\n",
       "      <td>0.0</td>\n",
       "    </tr>\n",
       "    <tr>\n",
       "      <th>4</th>\n",
       "      <td>3017.697599</td>\n",
       "      <td>Entry-Level</td>\n",
       "      <td>1</td>\n",
       "      <td>0.0</td>\n",
       "      <td>0.0</td>\n",
       "      <td>1.0</td>\n",
       "      <td>0.0</td>\n",
       "      <td>0.0</td>\n",
       "      <td>0.0</td>\n",
       "    </tr>\n",
       "  </tbody>\n",
       "</table>\n",
       "</div>"
      ],
      "text/plain": [
       "    salary_box experience_level  experience_levelmap_funcion  x0_CA  x0_ES  \\\n",
       "0  4631.904560      Entry-Level                            1    0.0    0.0   \n",
       "1  7311.922975        Mid-Level                            2    0.0    0.0   \n",
       "2  3622.101327      Entry-Level                            1    0.0    0.0   \n",
       "3  3048.666850        Mid-Level                            2    0.0    0.0   \n",
       "4  3017.697599      Entry-Level                            1    0.0    0.0   \n",
       "\n",
       "   x0_FR  x0_GB  x0_IN  x0_US  \n",
       "0    0.0    0.0    0.0    1.0  \n",
       "1    0.0    0.0    0.0    1.0  \n",
       "2    1.0    0.0    0.0    0.0  \n",
       "3    0.0    0.0    1.0    0.0  \n",
       "4    1.0    0.0    0.0    0.0  "
      ]
     },
     "execution_count": 34,
     "metadata": {},
     "output_type": "execute_result"
    }
   ],
   "source": [
    "# aplicamos nuestra función al dataset para que nos haga el encoding sobre la columna employee_residence\n",
    "df_one_enco = one_hot_encoder_one(df_one, \"employee_residence\")\n",
    "df_one_enco.head()"
   ]
  },
  {
   "cell_type": "code",
   "execution_count": 35,
   "metadata": {},
   "outputs": [],
   "source": [
    "df_one_enco.drop(\"experience_level\", axis=1, inplace=True)"
   ]
  },
  {
   "cell_type": "markdown",
   "metadata": {},
   "source": [
    "#### get_dummies"
   ]
  },
  {
   "cell_type": "code",
   "execution_count": 36,
   "metadata": {},
   "outputs": [
    {
     "data": {
      "text/plain": [
       "array(['US', 'FR', 'IN', 'GB', 'ES', 'CA'], dtype=object)"
      ]
     },
     "execution_count": 36,
     "metadata": {},
     "output_type": "execute_result"
    }
   ],
   "source": [
    "# en este caso trabajaremos con la columna de owners, veamos cuales son sus valores únicos\n",
    "df_one.employee_residence.unique()"
   ]
  },
  {
   "cell_type": "code",
   "execution_count": 37,
   "metadata": {},
   "outputs": [
    {
     "data": {
      "text/html": [
       "<div>\n",
       "<style scoped>\n",
       "    .dataframe tbody tr th:only-of-type {\n",
       "        vertical-align: middle;\n",
       "    }\n",
       "\n",
       "    .dataframe tbody tr th {\n",
       "        vertical-align: top;\n",
       "    }\n",
       "\n",
       "    .dataframe thead th {\n",
       "        text-align: right;\n",
       "    }\n",
       "</style>\n",
       "<table border=\"1\" class=\"dataframe\">\n",
       "  <thead>\n",
       "    <tr style=\"text-align: right;\">\n",
       "      <th></th>\n",
       "      <th>emp_resid_CA</th>\n",
       "      <th>emp_resid_ES</th>\n",
       "      <th>emp_resid_FR</th>\n",
       "      <th>emp_resid_GB</th>\n",
       "      <th>emp_resid_IN</th>\n",
       "      <th>emp_resid_US</th>\n",
       "    </tr>\n",
       "  </thead>\n",
       "  <tbody>\n",
       "    <tr>\n",
       "      <th>0</th>\n",
       "      <td>0</td>\n",
       "      <td>0</td>\n",
       "      <td>0</td>\n",
       "      <td>0</td>\n",
       "      <td>0</td>\n",
       "      <td>1</td>\n",
       "    </tr>\n",
       "    <tr>\n",
       "      <th>1</th>\n",
       "      <td>0</td>\n",
       "      <td>0</td>\n",
       "      <td>0</td>\n",
       "      <td>0</td>\n",
       "      <td>0</td>\n",
       "      <td>1</td>\n",
       "    </tr>\n",
       "  </tbody>\n",
       "</table>\n",
       "</div>"
      ],
      "text/plain": [
       "   emp_resid_CA  emp_resid_ES  emp_resid_FR  emp_resid_GB  emp_resid_IN  \\\n",
       "0             0             0             0             0             0   \n",
       "1             0             0             0             0             0   \n",
       "\n",
       "   emp_resid_US  \n",
       "0             1  \n",
       "1             1  "
      ]
     },
     "execution_count": 37,
     "metadata": {},
     "output_type": "execute_result"
    }
   ],
   "source": [
    "# lo haremos para la columna \"employee_residence\"\n",
    "\n",
    "dummies = pd.get_dummies(df_dummies[\"employee_residence\"], prefix_sep = \"_\", prefix = \"emp_resid\", dtype = int)\n",
    "dummies.head(2)"
   ]
  },
  {
   "cell_type": "code",
   "execution_count": 38,
   "metadata": {},
   "outputs": [
    {
     "data": {
      "text/html": [
       "<div>\n",
       "<style scoped>\n",
       "    .dataframe tbody tr th:only-of-type {\n",
       "        vertical-align: middle;\n",
       "    }\n",
       "\n",
       "    .dataframe tbody tr th {\n",
       "        vertical-align: top;\n",
       "    }\n",
       "\n",
       "    .dataframe thead th {\n",
       "        text-align: right;\n",
       "    }\n",
       "</style>\n",
       "<table border=\"1\" class=\"dataframe\">\n",
       "  <thead>\n",
       "    <tr style=\"text-align: right;\">\n",
       "      <th></th>\n",
       "      <th>salary_box</th>\n",
       "      <th>experience_level</th>\n",
       "      <th>employee_residence</th>\n",
       "      <th>experience_levelmap_funcion</th>\n",
       "      <th>emp_resid_CA</th>\n",
       "      <th>emp_resid_ES</th>\n",
       "      <th>emp_resid_FR</th>\n",
       "      <th>emp_resid_GB</th>\n",
       "      <th>emp_resid_IN</th>\n",
       "      <th>emp_resid_US</th>\n",
       "    </tr>\n",
       "  </thead>\n",
       "  <tbody>\n",
       "    <tr>\n",
       "      <th>0</th>\n",
       "      <td>4631.904560</td>\n",
       "      <td>Entry-Level</td>\n",
       "      <td>US</td>\n",
       "      <td>1</td>\n",
       "      <td>0</td>\n",
       "      <td>0</td>\n",
       "      <td>0</td>\n",
       "      <td>0</td>\n",
       "      <td>0</td>\n",
       "      <td>1</td>\n",
       "    </tr>\n",
       "    <tr>\n",
       "      <th>1</th>\n",
       "      <td>7311.922975</td>\n",
       "      <td>Mid-Level</td>\n",
       "      <td>US</td>\n",
       "      <td>2</td>\n",
       "      <td>0</td>\n",
       "      <td>0</td>\n",
       "      <td>0</td>\n",
       "      <td>0</td>\n",
       "      <td>0</td>\n",
       "      <td>1</td>\n",
       "    </tr>\n",
       "  </tbody>\n",
       "</table>\n",
       "</div>"
      ],
      "text/plain": [
       "    salary_box experience_level employee_residence  \\\n",
       "0  4631.904560      Entry-Level                 US   \n",
       "1  7311.922975        Mid-Level                 US   \n",
       "\n",
       "   experience_levelmap_funcion  emp_resid_CA  emp_resid_ES  emp_resid_FR  \\\n",
       "0                            1             0             0             0   \n",
       "1                            2             0             0             0   \n",
       "\n",
       "   emp_resid_GB  emp_resid_IN  emp_resid_US  \n",
       "0             0             0             1  \n",
       "1             0             0             1  "
      ]
     },
     "execution_count": 38,
     "metadata": {},
     "output_type": "execute_result"
    }
   ],
   "source": [
    "# juntamos los datos condf_dummies\n",
    "\n",
    "df_dummies_final = pd.concat([df_dummies, dummies], axis = 1)\n",
    "df_dummies_final.head(2)"
   ]
  },
  {
   "cell_type": "code",
   "execution_count": 39,
   "metadata": {},
   "outputs": [
    {
     "data": {
      "text/html": [
       "<div>\n",
       "<style scoped>\n",
       "    .dataframe tbody tr th:only-of-type {\n",
       "        vertical-align: middle;\n",
       "    }\n",
       "\n",
       "    .dataframe tbody tr th {\n",
       "        vertical-align: top;\n",
       "    }\n",
       "\n",
       "    .dataframe thead th {\n",
       "        text-align: right;\n",
       "    }\n",
       "</style>\n",
       "<table border=\"1\" class=\"dataframe\">\n",
       "  <thead>\n",
       "    <tr style=\"text-align: right;\">\n",
       "      <th></th>\n",
       "      <th>salary_box</th>\n",
       "      <th>experience_levelmap_funcion</th>\n",
       "      <th>emp_resid_CA</th>\n",
       "      <th>emp_resid_ES</th>\n",
       "      <th>emp_resid_FR</th>\n",
       "      <th>emp_resid_GB</th>\n",
       "      <th>emp_resid_IN</th>\n",
       "      <th>emp_resid_US</th>\n",
       "    </tr>\n",
       "  </thead>\n",
       "  <tbody>\n",
       "    <tr>\n",
       "      <th>0</th>\n",
       "      <td>4631.904560</td>\n",
       "      <td>1</td>\n",
       "      <td>0</td>\n",
       "      <td>0</td>\n",
       "      <td>0</td>\n",
       "      <td>0</td>\n",
       "      <td>0</td>\n",
       "      <td>1</td>\n",
       "    </tr>\n",
       "    <tr>\n",
       "      <th>1</th>\n",
       "      <td>7311.922975</td>\n",
       "      <td>2</td>\n",
       "      <td>0</td>\n",
       "      <td>0</td>\n",
       "      <td>0</td>\n",
       "      <td>0</td>\n",
       "      <td>0</td>\n",
       "      <td>1</td>\n",
       "    </tr>\n",
       "  </tbody>\n",
       "</table>\n",
       "</div>"
      ],
      "text/plain": [
       "    salary_box  experience_levelmap_funcion  emp_resid_CA  emp_resid_ES  \\\n",
       "0  4631.904560                            1             0             0   \n",
       "1  7311.922975                            2             0             0   \n",
       "\n",
       "   emp_resid_FR  emp_resid_GB  emp_resid_IN  emp_resid_US  \n",
       "0             0             0             0             1  \n",
       "1             0             0             0             1  "
      ]
     },
     "execution_count": 39,
     "metadata": {},
     "output_type": "execute_result"
    }
   ],
   "source": [
    "df_dummies_final.drop([\"experience_level\",\"employee_residence\"], axis=1, inplace=True)\n",
    "df_dummies_final.head(2)\n"
   ]
  },
  {
   "cell_type": "markdown",
   "metadata": {},
   "source": [
    "- Guardad el dataframe, donde deberíais tener las variables estadandarizas, normalizadas y codificadas en un csv para usarlo en el próximo pairprogramming"
   ]
  },
  {
   "cell_type": "code",
   "execution_count": 40,
   "metadata": {},
   "outputs": [],
   "source": [
    "df_dummies_final.to_csv('../datos/salarios_encoding_dum.csv')"
   ]
  },
  {
   "cell_type": "code",
   "execution_count": 41,
   "metadata": {},
   "outputs": [],
   "source": [
    "df_one_enco.to_csv('../datos/salarios_encoding_one.csv')"
   ]
  }
 ],
 "metadata": {
  "kernelspec": {
   "display_name": "Python 3.9.7 ('base')",
   "language": "python",
   "name": "python3"
  },
  "language_info": {
   "codemirror_mode": {
    "name": "ipython",
    "version": 3
   },
   "file_extension": ".py",
   "mimetype": "text/x-python",
   "name": "python",
   "nbconvert_exporter": "python",
   "pygments_lexer": "ipython3",
   "version": "3.9.7"
  },
  "orig_nbformat": 4,
  "vscode": {
   "interpreter": {
    "hash": "c077ba4c986d0c674841b1bde68a642c04a6e440695030e9d779c08f2cbfb9f4"
   }
  }
 },
 "nbformat": 4,
 "nbformat_minor": 2
}
