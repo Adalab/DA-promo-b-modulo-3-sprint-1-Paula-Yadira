{
 "cells": [
  {
   "cell_type": "code",
   "execution_count": 2,
   "metadata": {},
   "outputs": [],
   "source": [
    "import pandas as pd\n",
    "import numpy as np\n",
    "import seaborn as sns\n",
    "import matplotlib.pyplot as plt\n",
    "import statsmodels.api as sm\n",
    "from statsmodels.formula.api import ols\n",
    "from statsmodels.multivariate.manova import MANOVA\n",
    "from sklearn.preprocessing import StandardScaler\n",
    "\n",
    "plt.rcParams[\"figure.figsize\"] = (10,8) \n",
    "\n",
    "# Configuración warnings\n",
    "import warnings\n",
    "warnings.filterwarnings('ignore')\n",
    "pd.options.display.max_columns=None"
   ]
  },
  {
   "cell_type": "markdown",
   "metadata": {},
   "source": [
    "En el pair programming de hoy usaremos el set de datos que guardastéis en el pair programming de normalización y estandarización."
   ]
  },
  {
   "cell_type": "code",
   "execution_count": 3,
   "metadata": {},
   "outputs": [
    {
     "data": {
      "text/html": [
       "<div>\n",
       "<style scoped>\n",
       "    .dataframe tbody tr th:only-of-type {\n",
       "        vertical-align: middle;\n",
       "    }\n",
       "\n",
       "    .dataframe tbody tr th {\n",
       "        vertical-align: top;\n",
       "    }\n",
       "\n",
       "    .dataframe thead th {\n",
       "        text-align: right;\n",
       "    }\n",
       "</style>\n",
       "<table border=\"1\" class=\"dataframe\">\n",
       "  <thead>\n",
       "    <tr style=\"text-align: right;\">\n",
       "      <th></th>\n",
       "      <th>work_year</th>\n",
       "      <th>experience_level</th>\n",
       "      <th>employment_type</th>\n",
       "      <th>job_title</th>\n",
       "      <th>salary_in_usd</th>\n",
       "      <th>employee_residence</th>\n",
       "      <th>remote_ratio</th>\n",
       "      <th>company_location</th>\n",
       "      <th>company_size</th>\n",
       "      <th>salary_box</th>\n",
       "    </tr>\n",
       "  </thead>\n",
       "  <tbody>\n",
       "    <tr>\n",
       "      <th>0</th>\n",
       "      <td>2020</td>\n",
       "      <td>Entry-Level</td>\n",
       "      <td>Full-Time</td>\n",
       "      <td>Data Analyst</td>\n",
       "      <td>72000</td>\n",
       "      <td>US</td>\n",
       "      <td>100</td>\n",
       "      <td>US</td>\n",
       "      <td>L</td>\n",
       "      <td>4631.904560</td>\n",
       "    </tr>\n",
       "    <tr>\n",
       "      <th>1</th>\n",
       "      <td>2020</td>\n",
       "      <td>Mid-Level</td>\n",
       "      <td>Full-Time</td>\n",
       "      <td>Business Data Analyst</td>\n",
       "      <td>135000</td>\n",
       "      <td>US</td>\n",
       "      <td>100</td>\n",
       "      <td>US</td>\n",
       "      <td>L</td>\n",
       "      <td>7311.922975</td>\n",
       "    </tr>\n",
       "  </tbody>\n",
       "</table>\n",
       "</div>"
      ],
      "text/plain": [
       "   work_year experience_level employment_type              job_title  \\\n",
       "0       2020      Entry-Level       Full-Time           Data Analyst   \n",
       "1       2020        Mid-Level       Full-Time  Business Data Analyst   \n",
       "\n",
       "   salary_in_usd employee_residence  remote_ratio company_location  \\\n",
       "0          72000                 US           100               US   \n",
       "1         135000                 US           100               US   \n",
       "\n",
       "  company_size   salary_box  \n",
       "0            L  4631.904560  \n",
       "1            L  7311.922975  "
      ]
     },
     "execution_count": 3,
     "metadata": {},
     "output_type": "execute_result"
    }
   ],
   "source": [
    "df=pd.read_csv('../datos/salary_normalizado.csv', index_col=0)\n",
    "df.head(2) #Hacemos una vista previa de nuestro DataFrame"
   ]
  },
  {
   "cell_type": "markdown",
   "metadata": {},
   "source": [
    "Hasta ahora habéis estado evaluando las características de vuestro set de datos y habéis hecho una gran exploración, es el momento de hacer vuestro primer ANOVA! En el ejercicio de hoy tendréis que hacer un ANOVA con vuestro datos y hacer una interpretación de los resultados."
   ]
  },
  {
   "cell_type": "markdown",
   "metadata": {},
   "source": [
    "Vamos a utilizar las variables que cumplen la asunción de homocedasticidad y normalidad (ninguna cumple la estandarización por no tenemos variables númericas)"
   ]
  },
  {
   "cell_type": "code",
   "execution_count": 4,
   "metadata": {},
   "outputs": [
    {
     "data": {
      "text/html": [
       "<div>\n",
       "<style scoped>\n",
       "    .dataframe tbody tr th:only-of-type {\n",
       "        vertical-align: middle;\n",
       "    }\n",
       "\n",
       "    .dataframe tbody tr th {\n",
       "        vertical-align: top;\n",
       "    }\n",
       "\n",
       "    .dataframe thead th {\n",
       "        text-align: right;\n",
       "    }\n",
       "</style>\n",
       "<table border=\"1\" class=\"dataframe\">\n",
       "  <thead>\n",
       "    <tr style=\"text-align: right;\">\n",
       "      <th></th>\n",
       "      <th>df</th>\n",
       "      <th>sum_sq</th>\n",
       "      <th>mean_sq</th>\n",
       "      <th>F</th>\n",
       "      <th>PR(&gt;F)</th>\n",
       "    </tr>\n",
       "  </thead>\n",
       "  <tbody>\n",
       "    <tr>\n",
       "      <th>experience_level</th>\n",
       "      <td>3.0</td>\n",
       "      <td>4.506350e+08</td>\n",
       "      <td>1.502117e+08</td>\n",
       "      <td>70.445125</td>\n",
       "      <td>1.737270e-34</td>\n",
       "    </tr>\n",
       "    <tr>\n",
       "      <th>employee_residence</th>\n",
       "      <td>5.0</td>\n",
       "      <td>2.888119e+08</td>\n",
       "      <td>5.776237e+07</td>\n",
       "      <td>27.088958</td>\n",
       "      <td>1.366565e-22</td>\n",
       "    </tr>\n",
       "    <tr>\n",
       "      <th>company_location</th>\n",
       "      <td>5.0</td>\n",
       "      <td>1.418017e+07</td>\n",
       "      <td>2.836034e+06</td>\n",
       "      <td>1.330022</td>\n",
       "      <td>2.512889e-01</td>\n",
       "    </tr>\n",
       "    <tr>\n",
       "      <th>work_year</th>\n",
       "      <td>1.0</td>\n",
       "      <td>2.965618e+04</td>\n",
       "      <td>2.965618e+04</td>\n",
       "      <td>0.013908</td>\n",
       "      <td>9.062008e-01</td>\n",
       "    </tr>\n",
       "    <tr>\n",
       "      <th>Residual</th>\n",
       "      <td>299.0</td>\n",
       "      <td>6.375642e+08</td>\n",
       "      <td>2.132322e+06</td>\n",
       "      <td>NaN</td>\n",
       "      <td>NaN</td>\n",
       "    </tr>\n",
       "  </tbody>\n",
       "</table>\n",
       "</div>"
      ],
      "text/plain": [
       "                       df        sum_sq       mean_sq          F        PR(>F)\n",
       "experience_level      3.0  4.506350e+08  1.502117e+08  70.445125  1.737270e-34\n",
       "employee_residence    5.0  2.888119e+08  5.776237e+07  27.088958  1.366565e-22\n",
       "company_location      5.0  1.418017e+07  2.836034e+06   1.330022  2.512889e-01\n",
       "work_year             1.0  2.965618e+04  2.965618e+04   0.013908  9.062008e-01\n",
       "Residual            299.0  6.375642e+08  2.132322e+06        NaN           NaN"
      ]
     },
     "execution_count": 4,
     "metadata": {},
     "output_type": "execute_result"
    }
   ],
   "source": [
    "# iniciamos nuestro anova. Recordemos que la variable respuesta es el precio de las casas (median_house_value)\n",
    "lm = ols('salary_box ~ work_year  + experience_level + employee_residence + company_location' , data=df).fit()\n",
    "sm.stats.anova_lm(lm)"
   ]
  },
  {
   "cell_type": "code",
   "execution_count": 5,
   "metadata": {},
   "outputs": [
    {
     "data": {
      "text/html": [
       "<table class=\"simpletable\">\n",
       "<caption>OLS Regression Results</caption>\n",
       "<tr>\n",
       "  <th>Dep. Variable:</th>       <td>salary_box</td>    <th>  R-squared:         </th> <td>   0.542</td>\n",
       "</tr>\n",
       "<tr>\n",
       "  <th>Model:</th>                   <td>OLS</td>       <th>  Adj. R-squared:    </th> <td>   0.525</td>\n",
       "</tr>\n",
       "<tr>\n",
       "  <th>Method:</th>             <td>Least Squares</td>  <th>  F-statistic:       </th> <td>   32.12</td>\n",
       "</tr>\n",
       "<tr>\n",
       "  <th>Date:</th>             <td>Thu, 29 Sep 2022</td> <th>  Prob (F-statistic):</th> <td>1.85e-44</td>\n",
       "</tr>\n",
       "<tr>\n",
       "  <th>Time:</th>                 <td>12:57:44</td>     <th>  Log-Likelihood:    </th> <td> -2701.2</td>\n",
       "</tr>\n",
       "<tr>\n",
       "  <th>No. Observations:</th>      <td>   311</td>      <th>  AIC:               </th> <td>   5426.</td>\n",
       "</tr>\n",
       "<tr>\n",
       "  <th>Df Residuals:</th>          <td>   299</td>      <th>  BIC:               </th> <td>   5471.</td>\n",
       "</tr>\n",
       "<tr>\n",
       "  <th>Df Model:</th>              <td>    11</td>      <th>                     </th>     <td> </td>   \n",
       "</tr>\n",
       "<tr>\n",
       "  <th>Covariance Type:</th>      <td>nonrobust</td>    <th>                     </th>     <td> </td>   \n",
       "</tr>\n",
       "</table>\n",
       "<table class=\"simpletable\">\n",
       "<tr>\n",
       "                   <td></td>                      <th>coef</th>     <th>std err</th>      <th>t</th>      <th>P>|t|</th>  <th>[0.025</th>    <th>0.975]</th>  \n",
       "</tr>\n",
       "<tr>\n",
       "  <th>Intercept</th>                           <td>-3.483e+04</td> <td> 3.35e+05</td> <td>   -0.104</td> <td> 0.917</td> <td>-6.95e+05</td> <td> 6.25e+05</td>\n",
       "</tr>\n",
       "<tr>\n",
       "  <th>experience_level[T.Executive Level]</th> <td> 3499.0530</td> <td>  727.968</td> <td>    4.807</td> <td> 0.000</td> <td> 2066.463</td> <td> 4931.643</td>\n",
       "</tr>\n",
       "<tr>\n",
       "  <th>experience_level[T.Mid-Level]</th>       <td> 1092.5298</td> <td>  315.017</td> <td>    3.468</td> <td> 0.001</td> <td>  472.599</td> <td> 1712.460</td>\n",
       "</tr>\n",
       "<tr>\n",
       "  <th>experience_level[T.Senior]</th>          <td> 2022.4765</td> <td>  329.480</td> <td>    6.138</td> <td> 0.000</td> <td> 1374.082</td> <td> 2670.871</td>\n",
       "</tr>\n",
       "<tr>\n",
       "  <th>employee_residence[T.ES]</th>            <td> 2137.4221</td> <td> 1121.615</td> <td>    1.906</td> <td> 0.058</td> <td>  -69.838</td> <td> 4344.682</td>\n",
       "</tr>\n",
       "<tr>\n",
       "  <th>employee_residence[T.FR]</th>            <td> -317.1116</td> <td>  301.950</td> <td>   -1.050</td> <td> 0.294</td> <td> -911.329</td> <td>  277.105</td>\n",
       "</tr>\n",
       "<tr>\n",
       "  <th>employee_residence[T.GB]</th>            <td>   48.0388</td> <td>  231.122</td> <td>    0.208</td> <td> 0.835</td> <td> -406.794</td> <td>  502.871</td>\n",
       "</tr>\n",
       "<tr>\n",
       "  <th>employee_residence[T.IN]</th>            <td>-4296.2225</td> <td> 1112.722</td> <td>   -3.861</td> <td> 0.000</td> <td>-6485.981</td> <td>-2106.464</td>\n",
       "</tr>\n",
       "<tr>\n",
       "  <th>employee_residence[T.US]</th>            <td> 1467.0345</td> <td>  734.708</td> <td>    1.997</td> <td> 0.047</td> <td>   21.181</td> <td> 2912.888</td>\n",
       "</tr>\n",
       "<tr>\n",
       "  <th>company_location[T.ES]</th>              <td>-3169.8770</td> <td> 1190.277</td> <td>   -2.663</td> <td> 0.008</td> <td>-5512.258</td> <td> -827.496</td>\n",
       "</tr>\n",
       "<tr>\n",
       "  <th>company_location[T.FR]</th>              <td> -317.1116</td> <td>  301.950</td> <td>   -1.050</td> <td> 0.294</td> <td> -911.329</td> <td>  277.105</td>\n",
       "</tr>\n",
       "<tr>\n",
       "  <th>company_location[T.GB]</th>              <td>   48.0388</td> <td>  231.122</td> <td>    0.208</td> <td> 0.835</td> <td> -406.794</td> <td>  502.871</td>\n",
       "</tr>\n",
       "<tr>\n",
       "  <th>company_location[T.IN]</th>              <td> 2160.9323</td> <td> 1168.880</td> <td>    1.849</td> <td> 0.065</td> <td> -139.342</td> <td> 4461.206</td>\n",
       "</tr>\n",
       "<tr>\n",
       "  <th>company_location[T.US]</th>              <td>  317.1790</td> <td>  733.040</td> <td>    0.433</td> <td> 0.666</td> <td>-1125.393</td> <td> 1759.751</td>\n",
       "</tr>\n",
       "<tr>\n",
       "  <th>work_year</th>                           <td>   19.0238</td> <td>  165.929</td> <td>    0.115</td> <td> 0.909</td> <td> -307.513</td> <td>  345.561</td>\n",
       "</tr>\n",
       "</table>\n",
       "<table class=\"simpletable\">\n",
       "<tr>\n",
       "  <th>Omnibus:</th>       <td> 3.470</td> <th>  Durbin-Watson:     </th> <td>   1.858</td>\n",
       "</tr>\n",
       "<tr>\n",
       "  <th>Prob(Omnibus):</th> <td> 0.176</td> <th>  Jarque-Bera (JB):  </th> <td>   3.411</td>\n",
       "</tr>\n",
       "<tr>\n",
       "  <th>Skew:</th>          <td> 0.155</td> <th>  Prob(JB):          </th> <td>   0.182</td>\n",
       "</tr>\n",
       "<tr>\n",
       "  <th>Kurtosis:</th>      <td> 3.409</td> <th>  Cond. No.          </th> <td>5.34e+19</td>\n",
       "</tr>\n",
       "</table><br/><br/>Notes:<br/>[1] Standard Errors assume that the covariance matrix of the errors is correctly specified.<br/>[2] The smallest eigenvalue is 4.46e-31. This might indicate that there are<br/>strong multicollinearity problems or that the design matrix is singular."
      ],
      "text/plain": [
       "<class 'statsmodels.iolib.summary.Summary'>\n",
       "\"\"\"\n",
       "                            OLS Regression Results                            \n",
       "==============================================================================\n",
       "Dep. Variable:             salary_box   R-squared:                       0.542\n",
       "Model:                            OLS   Adj. R-squared:                  0.525\n",
       "Method:                 Least Squares   F-statistic:                     32.12\n",
       "Date:                Thu, 29 Sep 2022   Prob (F-statistic):           1.85e-44\n",
       "Time:                        12:57:44   Log-Likelihood:                -2701.2\n",
       "No. Observations:                 311   AIC:                             5426.\n",
       "Df Residuals:                     299   BIC:                             5471.\n",
       "Df Model:                          11                                         \n",
       "Covariance Type:            nonrobust                                         \n",
       "=======================================================================================================\n",
       "                                          coef    std err          t      P>|t|      [0.025      0.975]\n",
       "-------------------------------------------------------------------------------------------------------\n",
       "Intercept                           -3.483e+04   3.35e+05     -0.104      0.917   -6.95e+05    6.25e+05\n",
       "experience_level[T.Executive Level]  3499.0530    727.968      4.807      0.000    2066.463    4931.643\n",
       "experience_level[T.Mid-Level]        1092.5298    315.017      3.468      0.001     472.599    1712.460\n",
       "experience_level[T.Senior]           2022.4765    329.480      6.138      0.000    1374.082    2670.871\n",
       "employee_residence[T.ES]             2137.4221   1121.615      1.906      0.058     -69.838    4344.682\n",
       "employee_residence[T.FR]             -317.1116    301.950     -1.050      0.294    -911.329     277.105\n",
       "employee_residence[T.GB]               48.0388    231.122      0.208      0.835    -406.794     502.871\n",
       "employee_residence[T.IN]            -4296.2225   1112.722     -3.861      0.000   -6485.981   -2106.464\n",
       "employee_residence[T.US]             1467.0345    734.708      1.997      0.047      21.181    2912.888\n",
       "company_location[T.ES]              -3169.8770   1190.277     -2.663      0.008   -5512.258    -827.496\n",
       "company_location[T.FR]               -317.1116    301.950     -1.050      0.294    -911.329     277.105\n",
       "company_location[T.GB]                 48.0388    231.122      0.208      0.835    -406.794     502.871\n",
       "company_location[T.IN]               2160.9323   1168.880      1.849      0.065    -139.342    4461.206\n",
       "company_location[T.US]                317.1790    733.040      0.433      0.666   -1125.393    1759.751\n",
       "work_year                              19.0238    165.929      0.115      0.909    -307.513     345.561\n",
       "==============================================================================\n",
       "Omnibus:                        3.470   Durbin-Watson:                   1.858\n",
       "Prob(Omnibus):                  0.176   Jarque-Bera (JB):                3.411\n",
       "Skew:                           0.155   Prob(JB):                        0.182\n",
       "Kurtosis:                       3.409   Cond. No.                     5.34e+19\n",
       "==============================================================================\n",
       "\n",
       "Notes:\n",
       "[1] Standard Errors assume that the covariance matrix of the errors is correctly specified.\n",
       "[2] The smallest eigenvalue is 4.46e-31. This might indicate that there are\n",
       "strong multicollinearity problems or that the design matrix is singular.\n",
       "\"\"\""
      ]
     },
     "execution_count": 5,
     "metadata": {},
     "output_type": "execute_result"
    }
   ],
   "source": [
    "lm.summary()"
   ]
  },
  {
   "cell_type": "markdown",
   "metadata": {},
   "source": [
    "## Interpretación de los resultados de summary\n"
   ]
  },
  {
   "cell_type": "markdown",
   "metadata": {},
   "source": [
    "Una vez obtenidos los resultados de summary, si nos fijamos en el pvalor obtenido para las distintas variables categóricas, vemos que hay algunas que no nos estan afectando a nuestra variable respuesta (hemos obtenido un pvalor > 0.05), como son, por ejemplo company_location y work_year, que de media vemos que superan los 0.05 puntos en el pvalor. De esta forma, decidimos no seguir con estas variables para el modelo de regresión lineal, y coger solo las que han obtenido de media un pvalor < 0.05, y que nos indican que si que afectan a nuestras variable respuesta. Estas son:\n",
    "\n",
    " - experience_level\n",
    " - employee_residence"
   ]
  },
  {
   "cell_type": "markdown",
   "metadata": {},
   "source": [
    "Guardamos el DF con las variables predictoras categóricas correctas y nuestra variable respuesta"
   ]
  },
  {
   "cell_type": "code",
   "execution_count": 7,
   "metadata": {},
   "outputs": [
    {
     "data": {
      "text/plain": [
       "Index(['work_year', 'experience_level', 'employment_type', 'job_title',\n",
       "       'salary_in_usd', 'employee_residence', 'remote_ratio',\n",
       "       'company_location', 'company_size', 'salary_box'],\n",
       "      dtype='object')"
      ]
     },
     "execution_count": 7,
     "metadata": {},
     "output_type": "execute_result"
    }
   ],
   "source": [
    "df.columns"
   ]
  },
  {
   "cell_type": "code",
   "execution_count": 8,
   "metadata": {},
   "outputs": [],
   "source": [
    "df_modelo = df[['salary_box','experience_level','employee_residence']]"
   ]
  },
  {
   "cell_type": "code",
   "execution_count": 9,
   "metadata": {},
   "outputs": [
    {
     "data": {
      "text/html": [
       "<div>\n",
       "<style scoped>\n",
       "    .dataframe tbody tr th:only-of-type {\n",
       "        vertical-align: middle;\n",
       "    }\n",
       "\n",
       "    .dataframe tbody tr th {\n",
       "        vertical-align: top;\n",
       "    }\n",
       "\n",
       "    .dataframe thead th {\n",
       "        text-align: right;\n",
       "    }\n",
       "</style>\n",
       "<table border=\"1\" class=\"dataframe\">\n",
       "  <thead>\n",
       "    <tr style=\"text-align: right;\">\n",
       "      <th></th>\n",
       "      <th>salary_box</th>\n",
       "      <th>experience_level</th>\n",
       "      <th>employee_residence</th>\n",
       "    </tr>\n",
       "  </thead>\n",
       "  <tbody>\n",
       "    <tr>\n",
       "      <th>0</th>\n",
       "      <td>4631.904560</td>\n",
       "      <td>Entry-Level</td>\n",
       "      <td>US</td>\n",
       "    </tr>\n",
       "    <tr>\n",
       "      <th>1</th>\n",
       "      <td>7311.922975</td>\n",
       "      <td>Mid-Level</td>\n",
       "      <td>US</td>\n",
       "    </tr>\n",
       "  </tbody>\n",
       "</table>\n",
       "</div>"
      ],
      "text/plain": [
       "    salary_box experience_level employee_residence\n",
       "0  4631.904560      Entry-Level                 US\n",
       "1  7311.922975        Mid-Level                 US"
      ]
     },
     "execution_count": 9,
     "metadata": {},
     "output_type": "execute_result"
    }
   ],
   "source": [
    "df_modelo.head(2)"
   ]
  },
  {
   "cell_type": "code",
   "execution_count": 10,
   "metadata": {},
   "outputs": [],
   "source": [
    "df_modelo.to_csv('../datos/salaries_modelo.csv')"
   ]
  },
  {
   "cell_type": "markdown",
   "metadata": {},
   "source": [
    "📌 NOTA Puede que vuestros datos no se ajusten o no cumplan todas las asunciones, no pasa nada, haced el ANOVA e interpretad los resultados. En próximas lecciones aprenderemos que podemos hacer cuando nos encontramos en esta situación."
   ]
  }
 ],
 "metadata": {
  "kernelspec": {
   "display_name": "Python 3.9.7 ('base')",
   "language": "python",
   "name": "python3"
  },
  "language_info": {
   "codemirror_mode": {
    "name": "ipython",
    "version": 3
   },
   "file_extension": ".py",
   "mimetype": "text/x-python",
   "name": "python",
   "nbconvert_exporter": "python",
   "pygments_lexer": "ipython3",
   "version": "3.9.7"
  },
  "orig_nbformat": 4,
  "vscode": {
   "interpreter": {
    "hash": "40d3a090f54c6569ab1632332b64b2c03c39dcf918b08424e98f38b5ae0af88f"
   }
  }
 },
 "nbformat": 4,
 "nbformat_minor": 2
}
