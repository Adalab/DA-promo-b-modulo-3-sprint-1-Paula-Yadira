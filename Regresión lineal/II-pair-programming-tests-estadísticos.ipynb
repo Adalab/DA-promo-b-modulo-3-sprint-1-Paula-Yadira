{
 "cells": [
  {
   "cell_type": "markdown",
   "metadata": {},
   "source": [
    "1. ¿Qué diferencia existe el error de tipo I y el error de tipo II?"
   ]
  },
  {
   "cell_type": "markdown",
   "metadata": {},
   "source": [
    "El error de tipo I corresponderia con el falso positivo y el de tipo  II con el falso negativo.\n",
    "Por convenio, el H0 parte de la negación de la hipótesis que se quiere probar y H1 parte de la afirmación de la misma."
   ]
  },
  {
   "cell_type": "markdown",
   "metadata": {},
   "source": [
    "2. ¿Qué es la asimetría?"
   ]
  },
  {
   "cell_type": "markdown",
   "metadata": {},
   "source": [
    "Para medir la asimetria de una distribución partimos de la media de los datos. La asimetría mide la falta de simetría de los datos, los cuales pueden tener una distribución sesgada a la izquierda o a la derecha, pudiendo tener una distribución asimetrica positiva, negativa y simétrica."
   ]
  },
  {
   "cell_type": "markdown",
   "metadata": {},
   "source": [
    "3. ¿Es vuestra variable respuesta asimétrica?"
   ]
  },
  {
   "cell_type": "code",
   "execution_count": 149,
   "metadata": {},
   "outputs": [],
   "source": [
    "import pandas as pd\n",
    "import numpy as np\n",
    "import sidetable\n",
    "import matplotlib.pyplot as plt\n",
    "import seaborn as sns\n",
    "from scipy import stats\n",
    "from scipy.stats import skew\n",
    "from scipy.stats import kurtosistest\n",
    "# Establecer tamaño fijo de gráficas\n",
    "plt.rcParams[\"figure.figsize\"] = (10,8)\n",
    "\n",
    "# Configuración warnings\n",
    "import warnings\n",
    "warnings.filterwarnings('ignore')"
   ]
  },
  {
   "cell_type": "code",
   "execution_count": 150,
   "metadata": {},
   "outputs": [],
   "source": [
    "pd.options.display.float_format = '{:.2f}'.format\n",
    "pd.options.display.max_columns=None"
   ]
  },
  {
   "cell_type": "code",
   "execution_count": 151,
   "metadata": {},
   "outputs": [
    {
     "data": {
      "text/html": [
       "<div>\n",
       "<style scoped>\n",
       "    .dataframe tbody tr th:only-of-type {\n",
       "        vertical-align: middle;\n",
       "    }\n",
       "\n",
       "    .dataframe tbody tr th {\n",
       "        vertical-align: top;\n",
       "    }\n",
       "\n",
       "    .dataframe thead th {\n",
       "        text-align: right;\n",
       "    }\n",
       "</style>\n",
       "<table border=\"1\" class=\"dataframe\">\n",
       "  <thead>\n",
       "    <tr style=\"text-align: right;\">\n",
       "      <th></th>\n",
       "      <th>work_year</th>\n",
       "      <th>experience_level</th>\n",
       "      <th>employment_type</th>\n",
       "      <th>job_title</th>\n",
       "      <th>salary</th>\n",
       "      <th>salary_currency</th>\n",
       "      <th>salary_in_usd</th>\n",
       "      <th>employee_residence</th>\n",
       "      <th>remote_ratio</th>\n",
       "      <th>company_location</th>\n",
       "      <th>company_size</th>\n",
       "    </tr>\n",
       "  </thead>\n",
       "  <tbody>\n",
       "    <tr>\n",
       "      <th>0</th>\n",
       "      <td>2020</td>\n",
       "      <td>MI</td>\n",
       "      <td>FT</td>\n",
       "      <td>Data Scientist</td>\n",
       "      <td>70000</td>\n",
       "      <td>EUR</td>\n",
       "      <td>79833</td>\n",
       "      <td>DE</td>\n",
       "      <td>0</td>\n",
       "      <td>DE</td>\n",
       "      <td>L</td>\n",
       "    </tr>\n",
       "    <tr>\n",
       "      <th>1</th>\n",
       "      <td>2020</td>\n",
       "      <td>SE</td>\n",
       "      <td>FT</td>\n",
       "      <td>Machine Learning Scientist</td>\n",
       "      <td>260000</td>\n",
       "      <td>USD</td>\n",
       "      <td>260000</td>\n",
       "      <td>JP</td>\n",
       "      <td>0</td>\n",
       "      <td>JP</td>\n",
       "      <td>S</td>\n",
       "    </tr>\n",
       "  </tbody>\n",
       "</table>\n",
       "</div>"
      ],
      "text/plain": [
       "   work_year experience_level employment_type                   job_title  \\\n",
       "0       2020               MI              FT              Data Scientist   \n",
       "1       2020               SE              FT  Machine Learning Scientist   \n",
       "\n",
       "   salary salary_currency  salary_in_usd employee_residence  remote_ratio  \\\n",
       "0   70000             EUR          79833                 DE             0   \n",
       "1  260000             USD         260000                 JP             0   \n",
       "\n",
       "  company_location company_size  \n",
       "0               DE            L  \n",
       "1               JP            S  "
      ]
     },
     "execution_count": 151,
     "metadata": {},
     "output_type": "execute_result"
    }
   ],
   "source": [
    "df=pd.read_csv('../datos/salarios_bajos.csv', index_col=0)\n",
    "df.head(2) #Hacemos una vista previa de nuestro DataFrame"
   ]
  },
  {
   "cell_type": "markdown",
   "metadata": {},
   "source": [
    "Variable respuesta = salary_in_usd"
   ]
  },
  {
   "cell_type": "markdown",
   "metadata": {},
   "source": [
    "Calculamos la asimetria de salary"
   ]
  },
  {
   "cell_type": "code",
   "execution_count": 152,
   "metadata": {},
   "outputs": [
    {
     "data": {
      "text/plain": [
       "0.41957107086046835"
      ]
     },
     "execution_count": 152,
     "metadata": {},
     "output_type": "execute_result"
    }
   ],
   "source": [
    "df['salary_in_usd'].skew()"
   ]
  },
  {
   "cell_type": "markdown",
   "metadata": {},
   "source": [
    "Como hemos visto, nuestra skew es positiva, por lo que nuestra variable es asimetrica +, y por lo tanto, los datos no son normales."
   ]
  },
  {
   "cell_type": "markdown",
   "metadata": {},
   "source": [
    "4. ¿Qué tipo de curtosis presenta vuestra variable respuesta?"
   ]
  },
  {
   "cell_type": "code",
   "execution_count": 153,
   "metadata": {},
   "outputs": [
    {
     "data": {
      "text/plain": [
       "KurtosistestResult(statistic=-2.3723673584769482, pvalue=0.017674507950461174)"
      ]
     },
     "execution_count": 153,
     "metadata": {},
     "output_type": "execute_result"
    }
   ],
   "source": [
    "kurtosistest(df['salary_in_usd'])"
   ]
  },
  {
   "cell_type": "markdown",
   "metadata": {},
   "source": [
    "Nuestra variable respuesta tiene una forma leptocurtosa (al tener un resultado de curtosis mayor que 0) y los datos de salario no son normales al tener un pvalor menor a 0.05."
   ]
  },
  {
   "cell_type": "markdown",
   "metadata": {},
   "source": [
    "5. ¿Es vuestra variable respuesta normal? Demostrarlo visual y analíticamente."
   ]
  },
  {
   "cell_type": "code",
   "execution_count": 154,
   "metadata": {},
   "outputs": [],
   "source": [
    "numericas = df.select_dtypes(include='int64')"
   ]
  },
  {
   "cell_type": "code",
   "execution_count": 155,
   "metadata": {},
   "outputs": [
    {
     "data": {
      "text/html": [
       "<div>\n",
       "<style scoped>\n",
       "    .dataframe tbody tr th:only-of-type {\n",
       "        vertical-align: middle;\n",
       "    }\n",
       "\n",
       "    .dataframe tbody tr th {\n",
       "        vertical-align: top;\n",
       "    }\n",
       "\n",
       "    .dataframe thead th {\n",
       "        text-align: right;\n",
       "    }\n",
       "</style>\n",
       "<table border=\"1\" class=\"dataframe\">\n",
       "  <thead>\n",
       "    <tr style=\"text-align: right;\">\n",
       "      <th></th>\n",
       "      <th>work_year</th>\n",
       "      <th>salary</th>\n",
       "      <th>salary_in_usd</th>\n",
       "      <th>remote_ratio</th>\n",
       "    </tr>\n",
       "  </thead>\n",
       "  <tbody>\n",
       "    <tr>\n",
       "      <th>0</th>\n",
       "      <td>2020</td>\n",
       "      <td>70000</td>\n",
       "      <td>79833</td>\n",
       "      <td>0</td>\n",
       "    </tr>\n",
       "    <tr>\n",
       "      <th>1</th>\n",
       "      <td>2020</td>\n",
       "      <td>260000</td>\n",
       "      <td>260000</td>\n",
       "      <td>0</td>\n",
       "    </tr>\n",
       "    <tr>\n",
       "      <th>2</th>\n",
       "      <td>2020</td>\n",
       "      <td>85000</td>\n",
       "      <td>109024</td>\n",
       "      <td>50</td>\n",
       "    </tr>\n",
       "    <tr>\n",
       "      <th>3</th>\n",
       "      <td>2020</td>\n",
       "      <td>20000</td>\n",
       "      <td>20000</td>\n",
       "      <td>0</td>\n",
       "    </tr>\n",
       "    <tr>\n",
       "      <th>4</th>\n",
       "      <td>2020</td>\n",
       "      <td>150000</td>\n",
       "      <td>150000</td>\n",
       "      <td>50</td>\n",
       "    </tr>\n",
       "  </tbody>\n",
       "</table>\n",
       "</div>"
      ],
      "text/plain": [
       "   work_year  salary  salary_in_usd  remote_ratio\n",
       "0       2020   70000          79833             0\n",
       "1       2020  260000         260000             0\n",
       "2       2020   85000         109024            50\n",
       "3       2020   20000          20000             0\n",
       "4       2020  150000         150000            50"
      ]
     },
     "execution_count": 155,
     "metadata": {},
     "output_type": "execute_result"
    }
   ],
   "source": [
    "numericas.head()"
   ]
  },
  {
   "cell_type": "code",
   "execution_count": 156,
   "metadata": {},
   "outputs": [
    {
     "data": {
      "image/png": "[encoded data removed]",
      "text/plain": [
       "<Figure size 500x500 with 1 Axes>"
      ]
     },
     "metadata": {},
     "output_type": "display_data"
    }
   ],
   "source": [
    "sns.displot(numericas['salary_in_usd'], kde=True, color = 'grey')\n",
    "plt.show()"
   ]
  },
  {
   "cell_type": "code",
   "execution_count": 157,
   "metadata": {},
   "outputs": [
    {
     "data": {
      "image/png": "[encoded data removed]",
      "text/plain": [
       "<Figure size 1000x800 with 1 Axes>"
      ]
     },
     "metadata": {},
     "output_type": "display_data"
    }
   ],
   "source": [
    "sns.histplot(numericas['salary_in_usd'],bins=80, kde=True, color = 'purple')\n",
    "plt.show()"
   ]
  },
  {
   "cell_type": "markdown",
   "metadata": {},
   "source": [
    "Calculamos el shapiro test"
   ]
  },
  {
   "cell_type": "code",
   "execution_count": 158,
   "metadata": {},
   "outputs": [
    {
     "data": {
      "text/plain": [
       "ShapiroResult(statistic=0.9784162640571594, pvalue=1.045385573661406e-07)"
      ]
     },
     "execution_count": 158,
     "metadata": {},
     "output_type": "execute_result"
    }
   ],
   "source": [
    "stats.shapiro(df['salary_in_usd'])"
   ]
  },
  {
   "cell_type": "markdown",
   "metadata": {},
   "source": [
    "Como podemos ver en el gráfico obtenido pordemos intuir que tenemos un salario máximo que sería un posible outlayer y nos está contaminando los datos.\n",
    "Para comfirmar si es un outlayer es un dato aislado o existe un rango de salarios en esa cuantia vamos a realizar una tabla de frecuencias de variables númericas para comprobarlo."
   ]
  },
  {
   "cell_type": "code",
   "execution_count": 159,
   "metadata": {},
   "outputs": [],
   "source": [
    "df[\"salario_bajo\"]=pd.cut(df[\"salary_in_usd\"],bins=80)"
   ]
  },
  {
   "cell_type": "code",
   "execution_count": 160,
   "metadata": {},
   "outputs": [],
   "source": [
    "df_g=df.groupby(\"salario_bajo\").size()"
   ]
  },
  {
   "cell_type": "code",
   "execution_count": 161,
   "metadata": {},
   "outputs": [
    {
     "data": {
      "text/html": [
       "<div>\n",
       "<style scoped>\n",
       "    .dataframe tbody tr th:only-of-type {\n",
       "        vertical-align: middle;\n",
       "    }\n",
       "\n",
       "    .dataframe tbody tr th {\n",
       "        vertical-align: top;\n",
       "    }\n",
       "\n",
       "    .dataframe thead th {\n",
       "        text-align: right;\n",
       "    }\n",
       "</style>\n",
       "<table border=\"1\" class=\"dataframe\">\n",
       "  <thead>\n",
       "    <tr style=\"text-align: right;\">\n",
       "      <th></th>\n",
       "      <th>0</th>\n",
       "      <th>1</th>\n",
       "      <th>2</th>\n",
       "      <th>3</th>\n",
       "      <th>4</th>\n",
       "      <th>5</th>\n",
       "      <th>6</th>\n",
       "      <th>7</th>\n",
       "      <th>8</th>\n",
       "      <th>9</th>\n",
       "      <th>10</th>\n",
       "      <th>11</th>\n",
       "      <th>12</th>\n",
       "      <th>13</th>\n",
       "      <th>14</th>\n",
       "      <th>15</th>\n",
       "      <th>16</th>\n",
       "      <th>17</th>\n",
       "      <th>18</th>\n",
       "      <th>19</th>\n",
       "      <th>20</th>\n",
       "      <th>21</th>\n",
       "      <th>22</th>\n",
       "      <th>23</th>\n",
       "      <th>24</th>\n",
       "      <th>25</th>\n",
       "      <th>26</th>\n",
       "      <th>27</th>\n",
       "      <th>28</th>\n",
       "      <th>29</th>\n",
       "      <th>30</th>\n",
       "      <th>31</th>\n",
       "      <th>32</th>\n",
       "      <th>33</th>\n",
       "      <th>34</th>\n",
       "      <th>35</th>\n",
       "      <th>36</th>\n",
       "      <th>37</th>\n",
       "      <th>38</th>\n",
       "      <th>39</th>\n",
       "      <th>40</th>\n",
       "      <th>41</th>\n",
       "      <th>42</th>\n",
       "      <th>43</th>\n",
       "      <th>44</th>\n",
       "      <th>45</th>\n",
       "      <th>46</th>\n",
       "      <th>47</th>\n",
       "      <th>48</th>\n",
       "      <th>49</th>\n",
       "      <th>50</th>\n",
       "      <th>51</th>\n",
       "      <th>52</th>\n",
       "      <th>53</th>\n",
       "      <th>54</th>\n",
       "      <th>55</th>\n",
       "      <th>56</th>\n",
       "      <th>57</th>\n",
       "      <th>58</th>\n",
       "      <th>59</th>\n",
       "      <th>60</th>\n",
       "      <th>61</th>\n",
       "      <th>62</th>\n",
       "      <th>63</th>\n",
       "      <th>64</th>\n",
       "      <th>65</th>\n",
       "      <th>66</th>\n",
       "      <th>67</th>\n",
       "      <th>68</th>\n",
       "      <th>69</th>\n",
       "      <th>70</th>\n",
       "      <th>71</th>\n",
       "      <th>72</th>\n",
       "      <th>73</th>\n",
       "      <th>74</th>\n",
       "      <th>75</th>\n",
       "      <th>76</th>\n",
       "      <th>77</th>\n",
       "      <th>78</th>\n",
       "      <th>79</th>\n",
       "    </tr>\n",
       "  </thead>\n",
       "  <tbody>\n",
       "    <tr>\n",
       "      <th>salario_bajo</th>\n",
       "      <td>(2585.859, 6273.262]</td>\n",
       "      <td>(6273.262, 9687.525]</td>\n",
       "      <td>(9687.525, 13101.787]</td>\n",
       "      <td>(13101.787, 16516.05]</td>\n",
       "      <td>(16516.05, 19930.312]</td>\n",
       "      <td>(19930.312, 23344.575]</td>\n",
       "      <td>(23344.575, 26758.837]</td>\n",
       "      <td>(26758.837, 30173.1]</td>\n",
       "      <td>(30173.1, 33587.362]</td>\n",
       "      <td>(33587.362, 37001.625]</td>\n",
       "      <td>(37001.625, 40415.888]</td>\n",
       "      <td>(40415.888, 43830.15]</td>\n",
       "      <td>(43830.15, 47244.412]</td>\n",
       "      <td>(47244.412, 50658.675]</td>\n",
       "      <td>(50658.675, 54072.938]</td>\n",
       "      <td>(54072.938, 57487.2]</td>\n",
       "      <td>(57487.2, 60901.462]</td>\n",
       "      <td>(60901.462, 64315.725]</td>\n",
       "      <td>(64315.725, 67729.987]</td>\n",
       "      <td>(67729.987, 71144.25]</td>\n",
       "      <td>(71144.25, 74558.512]</td>\n",
       "      <td>(74558.512, 77972.775]</td>\n",
       "      <td>(77972.775, 81387.037]</td>\n",
       "      <td>(81387.037, 84801.3]</td>\n",
       "      <td>(84801.3, 88215.562]</td>\n",
       "      <td>(88215.562, 91629.825]</td>\n",
       "      <td>(91629.825, 95044.088]</td>\n",
       "      <td>(95044.088, 98458.35]</td>\n",
       "      <td>(98458.35, 101872.612]</td>\n",
       "      <td>(101872.612, 105286.875]</td>\n",
       "      <td>(105286.875, 108701.138]</td>\n",
       "      <td>(108701.138, 112115.4]</td>\n",
       "      <td>(112115.4, 115529.662]</td>\n",
       "      <td>(115529.662, 118943.925]</td>\n",
       "      <td>(118943.925, 122358.188]</td>\n",
       "      <td>(122358.188, 125772.45]</td>\n",
       "      <td>(125772.45, 129186.712]</td>\n",
       "      <td>(129186.712, 132600.975]</td>\n",
       "      <td>(132600.975, 136015.238]</td>\n",
       "      <td>(136015.238, 139429.5]</td>\n",
       "      <td>(139429.5, 142843.762]</td>\n",
       "      <td>(142843.762, 146258.025]</td>\n",
       "      <td>(146258.025, 149672.288]</td>\n",
       "      <td>(149672.288, 153086.55]</td>\n",
       "      <td>(153086.55, 156500.812]</td>\n",
       "      <td>(156500.812, 159915.075]</td>\n",
       "      <td>(159915.075, 163329.338]</td>\n",
       "      <td>(163329.338, 166743.6]</td>\n",
       "      <td>(166743.6, 170157.862]</td>\n",
       "      <td>(170157.862, 173572.125]</td>\n",
       "      <td>(173572.125, 176986.387]</td>\n",
       "      <td>(176986.387, 180400.65]</td>\n",
       "      <td>(180400.65, 183814.912]</td>\n",
       "      <td>(183814.912, 187229.175]</td>\n",
       "      <td>(187229.175, 190643.438]</td>\n",
       "      <td>(190643.438, 194057.7]</td>\n",
       "      <td>(194057.7, 197471.962]</td>\n",
       "      <td>(197471.962, 200886.225]</td>\n",
       "      <td>(200886.225, 204300.488]</td>\n",
       "      <td>(204300.488, 207714.75]</td>\n",
       "      <td>(207714.75, 211129.012]</td>\n",
       "      <td>(211129.012, 214543.275]</td>\n",
       "      <td>(214543.275, 217957.537]</td>\n",
       "      <td>(217957.537, 221371.8]</td>\n",
       "      <td>(221371.8, 224786.062]</td>\n",
       "      <td>(224786.062, 228200.325]</td>\n",
       "      <td>(228200.325, 231614.588]</td>\n",
       "      <td>(231614.588, 235028.85]</td>\n",
       "      <td>(235028.85, 238443.112]</td>\n",
       "      <td>(238443.112, 241857.375]</td>\n",
       "      <td>(241857.375, 245271.637]</td>\n",
       "      <td>(245271.637, 248685.9]</td>\n",
       "      <td>(248685.9, 252100.162]</td>\n",
       "      <td>(252100.162, 255514.425]</td>\n",
       "      <td>(255514.425, 258928.688]</td>\n",
       "      <td>(258928.688, 262342.95]</td>\n",
       "      <td>(262342.95, 265757.212]</td>\n",
       "      <td>(265757.212, 269171.475]</td>\n",
       "      <td>(269171.475, 272585.738]</td>\n",
       "      <td>(272585.738, 276000.0]</td>\n",
       "    </tr>\n",
       "    <tr>\n",
       "      <th>0</th>\n",
       "      <td>9</td>\n",
       "      <td>3</td>\n",
       "      <td>8</td>\n",
       "      <td>3</td>\n",
       "      <td>7</td>\n",
       "      <td>11</td>\n",
       "      <td>7</td>\n",
       "      <td>6</td>\n",
       "      <td>7</td>\n",
       "      <td>5</td>\n",
       "      <td>11</td>\n",
       "      <td>6</td>\n",
       "      <td>12</td>\n",
       "      <td>13</td>\n",
       "      <td>10</td>\n",
       "      <td>11</td>\n",
       "      <td>15</td>\n",
       "      <td>14</td>\n",
       "      <td>12</td>\n",
       "      <td>12</td>\n",
       "      <td>9</td>\n",
       "      <td>13</td>\n",
       "      <td>20</td>\n",
       "      <td>7</td>\n",
       "      <td>13</td>\n",
       "      <td>22</td>\n",
       "      <td>7</td>\n",
       "      <td>8</td>\n",
       "      <td>23</td>\n",
       "      <td>14</td>\n",
       "      <td>4</td>\n",
       "      <td>15</td>\n",
       "      <td>15</td>\n",
       "      <td>10</td>\n",
       "      <td>16</td>\n",
       "      <td>8</td>\n",
       "      <td>7</td>\n",
       "      <td>14</td>\n",
       "      <td>10</td>\n",
       "      <td>7</td>\n",
       "      <td>14</td>\n",
       "      <td>7</td>\n",
       "      <td>3</td>\n",
       "      <td>19</td>\n",
       "      <td>7</td>\n",
       "      <td>4</td>\n",
       "      <td>12</td>\n",
       "      <td>10</td>\n",
       "      <td>12</td>\n",
       "      <td>0</td>\n",
       "      <td>7</td>\n",
       "      <td>6</td>\n",
       "      <td>3</td>\n",
       "      <td>4</td>\n",
       "      <td>6</td>\n",
       "      <td>3</td>\n",
       "      <td>2</td>\n",
       "      <td>11</td>\n",
       "      <td>0</td>\n",
       "      <td>4</td>\n",
       "      <td>8</td>\n",
       "      <td>3</td>\n",
       "      <td>3</td>\n",
       "      <td>5</td>\n",
       "      <td>1</td>\n",
       "      <td>2</td>\n",
       "      <td>3</td>\n",
       "      <td>2</td>\n",
       "      <td>0</td>\n",
       "      <td>2</td>\n",
       "      <td>2</td>\n",
       "      <td>0</td>\n",
       "      <td>2</td>\n",
       "      <td>0</td>\n",
       "      <td>1</td>\n",
       "      <td>2</td>\n",
       "      <td>0</td>\n",
       "      <td>1</td>\n",
       "      <td>1</td>\n",
       "      <td>1</td>\n",
       "    </tr>\n",
       "  </tbody>\n",
       "</table>\n",
       "</div>"
      ],
      "text/plain": [
       "                                0                     1   \\\n",
       "salario_bajo  (2585.859, 6273.262]  (6273.262, 9687.525]   \n",
       "0                                9                     3   \n",
       "\n",
       "                                 2                      3   \\\n",
       "salario_bajo  (9687.525, 13101.787]  (13101.787, 16516.05]   \n",
       "0                                 8                      3   \n",
       "\n",
       "                                 4                       5   \\\n",
       "salario_bajo  (16516.05, 19930.312]  (19930.312, 23344.575]   \n",
       "0                                 7                      11   \n",
       "\n",
       "                                  6                     7   \\\n",
       "salario_bajo  (23344.575, 26758.837]  (26758.837, 30173.1]   \n",
       "0                                  7                     6   \n",
       "\n",
       "                                8                       9   \\\n",
       "salario_bajo  (30173.1, 33587.362]  (33587.362, 37001.625]   \n",
       "0                                7                       5   \n",
       "\n",
       "                                  10                     11  \\\n",
       "salario_bajo  (37001.625, 40415.888]  (40415.888, 43830.15]   \n",
       "0                                 11                      6   \n",
       "\n",
       "                                 12                      13  \\\n",
       "salario_bajo  (43830.15, 47244.412]  (47244.412, 50658.675]   \n",
       "0                                12                      13   \n",
       "\n",
       "                                  14                    15  \\\n",
       "salario_bajo  (50658.675, 54072.938]  (54072.938, 57487.2]   \n",
       "0                                 10                    11   \n",
       "\n",
       "                                16                      17  \\\n",
       "salario_bajo  (57487.2, 60901.462]  (60901.462, 64315.725]   \n",
       "0                               15                      14   \n",
       "\n",
       "                                  18                     19  \\\n",
       "salario_bajo  (64315.725, 67729.987]  (67729.987, 71144.25]   \n",
       "0                                 12                     12   \n",
       "\n",
       "                                 20                      21  \\\n",
       "salario_bajo  (71144.25, 74558.512]  (74558.512, 77972.775]   \n",
       "0                                 9                      13   \n",
       "\n",
       "                                  22                    23  \\\n",
       "salario_bajo  (77972.775, 81387.037]  (81387.037, 84801.3]   \n",
       "0                                 20                     7   \n",
       "\n",
       "                                24                      25  \\\n",
       "salario_bajo  (84801.3, 88215.562]  (88215.562, 91629.825]   \n",
       "0                               13                      22   \n",
       "\n",
       "                                  26                     27  \\\n",
       "salario_bajo  (91629.825, 95044.088]  (95044.088, 98458.35]   \n",
       "0                                  7                      8   \n",
       "\n",
       "                                  28                        29  \\\n",
       "salario_bajo  (98458.35, 101872.612]  (101872.612, 105286.875]   \n",
       "0                                 23                        14   \n",
       "\n",
       "                                    30                      31  \\\n",
       "salario_bajo  (105286.875, 108701.138]  (108701.138, 112115.4]   \n",
       "0                                    4                      15   \n",
       "\n",
       "                                  32                        33  \\\n",
       "salario_bajo  (112115.4, 115529.662]  (115529.662, 118943.925]   \n",
       "0                                 15                        10   \n",
       "\n",
       "                                    34                       35  \\\n",
       "salario_bajo  (118943.925, 122358.188]  (122358.188, 125772.45]   \n",
       "0                                   16                        8   \n",
       "\n",
       "                                   36                        37  \\\n",
       "salario_bajo  (125772.45, 129186.712]  (129186.712, 132600.975]   \n",
       "0                                   7                        14   \n",
       "\n",
       "                                    38                      39  \\\n",
       "salario_bajo  (132600.975, 136015.238]  (136015.238, 139429.5]   \n",
       "0                                   10                       7   \n",
       "\n",
       "                                  40                        41  \\\n",
       "salario_bajo  (139429.5, 142843.762]  (142843.762, 146258.025]   \n",
       "0                                 14                         7   \n",
       "\n",
       "                                    42                       43  \\\n",
       "salario_bajo  (146258.025, 149672.288]  (149672.288, 153086.55]   \n",
       "0                                    3                       19   \n",
       "\n",
       "                                   44                        45  \\\n",
       "salario_bajo  (153086.55, 156500.812]  (156500.812, 159915.075]   \n",
       "0                                   7                         4   \n",
       "\n",
       "                                    46                      47  \\\n",
       "salario_bajo  (159915.075, 163329.338]  (163329.338, 166743.6]   \n",
       "0                                   12                      10   \n",
       "\n",
       "                                  48                        49  \\\n",
       "salario_bajo  (166743.6, 170157.862]  (170157.862, 173572.125]   \n",
       "0                                 12                         0   \n",
       "\n",
       "                                    50                       51  \\\n",
       "salario_bajo  (173572.125, 176986.387]  (176986.387, 180400.65]   \n",
       "0                                    7                        6   \n",
       "\n",
       "                                   52                        53  \\\n",
       "salario_bajo  (180400.65, 183814.912]  (183814.912, 187229.175]   \n",
       "0                                   3                         4   \n",
       "\n",
       "                                    54                      55  \\\n",
       "salario_bajo  (187229.175, 190643.438]  (190643.438, 194057.7]   \n",
       "0                                    6                       3   \n",
       "\n",
       "                                  56                        57  \\\n",
       "salario_bajo  (194057.7, 197471.962]  (197471.962, 200886.225]   \n",
       "0                                  2                        11   \n",
       "\n",
       "                                    58                       59  \\\n",
       "salario_bajo  (200886.225, 204300.488]  (204300.488, 207714.75]   \n",
       "0                                    0                        4   \n",
       "\n",
       "                                   60                        61  \\\n",
       "salario_bajo  (207714.75, 211129.012]  (211129.012, 214543.275]   \n",
       "0                                   8                         3   \n",
       "\n",
       "                                    62                      63  \\\n",
       "salario_bajo  (214543.275, 217957.537]  (217957.537, 221371.8]   \n",
       "0                                    3                       5   \n",
       "\n",
       "                                  64                        65  \\\n",
       "salario_bajo  (221371.8, 224786.062]  (224786.062, 228200.325]   \n",
       "0                                  1                         2   \n",
       "\n",
       "                                    66                       67  \\\n",
       "salario_bajo  (228200.325, 231614.588]  (231614.588, 235028.85]   \n",
       "0                                    3                        2   \n",
       "\n",
       "                                   68                        69  \\\n",
       "salario_bajo  (235028.85, 238443.112]  (238443.112, 241857.375]   \n",
       "0                                   0                         2   \n",
       "\n",
       "                                    70                      71  \\\n",
       "salario_bajo  (241857.375, 245271.637]  (245271.637, 248685.9]   \n",
       "0                                    2                       0   \n",
       "\n",
       "                                  72                        73  \\\n",
       "salario_bajo  (248685.9, 252100.162]  (252100.162, 255514.425]   \n",
       "0                                  2                         0   \n",
       "\n",
       "                                    74                       75  \\\n",
       "salario_bajo  (255514.425, 258928.688]  (258928.688, 262342.95]   \n",
       "0                                    1                        2   \n",
       "\n",
       "                                   76                        77  \\\n",
       "salario_bajo  (262342.95, 265757.212]  (265757.212, 269171.475]   \n",
       "0                                   0                         1   \n",
       "\n",
       "                                    78                      79  \n",
       "salario_bajo  (269171.475, 272585.738]  (272585.738, 276000.0]  \n",
       "0                                    1                       1  "
      ]
     },
     "execution_count": 161,
     "metadata": {},
     "output_type": "execute_result"
    }
   ],
   "source": [
    "df_g.reset_index().T"
   ]
  },
  {
   "cell_type": "code",
   "execution_count": 162,
   "metadata": {},
   "outputs": [
    {
     "data": {
      "image/png": "[encoded data removed]",
      "text/plain": [
       "<Figure size 1000x800 with 1 Axes>"
      ]
     },
     "metadata": {},
     "output_type": "display_data"
    }
   ],
   "source": [
    "n = df['salary_in_usd']\n",
    "sns.boxplot(data=df['salary_in_usd'])\n",
    "\n",
    "plt.show()"
   ]
  },
  {
   "cell_type": "markdown",
   "metadata": {},
   "source": []
  }
 ],
 "metadata": {
  "kernelspec": {
   "display_name": "Python 3.9.7 ('base')",
   "language": "python",
   "name": "python3"
  },
  "language_info": {
   "codemirror_mode": {
    "name": "ipython",
    "version": 3
   },
   "file_extension": ".py",
   "mimetype": "text/x-python",
   "name": "python",
   "nbconvert_exporter": "python",
   "pygments_lexer": "ipython3",
   "version": "3.9.7"
  },
  "orig_nbformat": 4,
  "vscode": {
   "interpreter": {
    "hash": "40d3a090f54c6569ab1632332b64b2c03c39dcf918b08424e98f38b5ae0af88f"
   }
  }
 },
 "nbformat": 4,
 "nbformat_minor": 2
}
